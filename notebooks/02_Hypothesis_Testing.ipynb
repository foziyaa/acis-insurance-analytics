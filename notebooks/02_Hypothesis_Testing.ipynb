{
 "cells": [
  {
   "cell_type": "code",
   "execution_count": 8,
   "metadata": {},
   "outputs": [
    {
     "name": "stderr",
     "output_type": "stream",
     "text": [
      "C:\\Users\\foziya fetudin\\AppData\\Local\\Temp\\ipykernel_19096\\28805038.py:9: DtypeWarning: Columns (32,37) have mixed types. Specify dtype option on import or set low_memory=False.\n",
      "  df = pd.read_csv(file_path, delimiter='|')\n"
     ]
    },
    {
     "name": "stdout",
     "output_type": "stream",
     "text": [
      "Data prepared for hypothesis testing. Shape of claims_df: (2788, 54)\n"
     ]
    },
    {
     "data": {
      "text/html": [
       "<div>\n",
       "<style scoped>\n",
       "    .dataframe tbody tr th:only-of-type {\n",
       "        vertical-align: middle;\n",
       "    }\n",
       "\n",
       "    .dataframe tbody tr th {\n",
       "        vertical-align: top;\n",
       "    }\n",
       "\n",
       "    .dataframe thead th {\n",
       "        text-align: right;\n",
       "    }\n",
       "</style>\n",
       "<table border=\"1\" class=\"dataframe\">\n",
       "  <thead>\n",
       "    <tr style=\"text-align: right;\">\n",
       "      <th></th>\n",
       "      <th>province</th>\n",
       "      <th>gender</th>\n",
       "      <th>totalclaims</th>\n",
       "      <th>totalpremium</th>\n",
       "      <th>has_claim</th>\n",
       "      <th>margin</th>\n",
       "    </tr>\n",
       "  </thead>\n",
       "  <tbody>\n",
       "    <tr>\n",
       "      <th>0</th>\n",
       "      <td>Gauteng</td>\n",
       "      <td>Not specified</td>\n",
       "      <td>0.0</td>\n",
       "      <td>21.929825</td>\n",
       "      <td>0</td>\n",
       "      <td>21.929825</td>\n",
       "    </tr>\n",
       "    <tr>\n",
       "      <th>1</th>\n",
       "      <td>Gauteng</td>\n",
       "      <td>Not specified</td>\n",
       "      <td>0.0</td>\n",
       "      <td>21.929825</td>\n",
       "      <td>0</td>\n",
       "      <td>21.929825</td>\n",
       "    </tr>\n",
       "    <tr>\n",
       "      <th>2</th>\n",
       "      <td>Gauteng</td>\n",
       "      <td>Not specified</td>\n",
       "      <td>0.0</td>\n",
       "      <td>0.000000</td>\n",
       "      <td>0</td>\n",
       "      <td>0.000000</td>\n",
       "    </tr>\n",
       "    <tr>\n",
       "      <th>3</th>\n",
       "      <td>Gauteng</td>\n",
       "      <td>Not specified</td>\n",
       "      <td>0.0</td>\n",
       "      <td>512.848070</td>\n",
       "      <td>0</td>\n",
       "      <td>512.848070</td>\n",
       "    </tr>\n",
       "    <tr>\n",
       "      <th>4</th>\n",
       "      <td>Gauteng</td>\n",
       "      <td>Not specified</td>\n",
       "      <td>0.0</td>\n",
       "      <td>0.000000</td>\n",
       "      <td>0</td>\n",
       "      <td>0.000000</td>\n",
       "    </tr>\n",
       "  </tbody>\n",
       "</table>\n",
       "</div>"
      ],
      "text/plain": [
       "  province         gender  totalclaims  totalpremium  has_claim      margin\n",
       "0  Gauteng  Not specified          0.0     21.929825          0   21.929825\n",
       "1  Gauteng  Not specified          0.0     21.929825          0   21.929825\n",
       "2  Gauteng  Not specified          0.0      0.000000          0    0.000000\n",
       "3  Gauteng  Not specified          0.0    512.848070          0  512.848070\n",
       "4  Gauteng  Not specified          0.0      0.000000          0    0.000000"
      ]
     },
     "execution_count": 8,
     "metadata": {},
     "output_type": "execute_result"
    }
   ],
   "source": [
    "import pandas as pd\n",
    "import numpy as np\n",
    "from scipy import stats\n",
    "\n",
    "# Load the data\n",
    "# Using DVC to get the data path ensures we're using the versioned data\n",
    "# For now, we know the path, but this is a good practice to learn for later.\n",
    "file_path = '../data/raw/MachineLearningRating_v3.txt'\n",
    "df = pd.read_csv(file_path, delimiter='|')\n",
    "\n",
    "# --- Best Practice: Standardize Column Names ---\n",
    "# Let's do this now to avoid KeyErrors.\n",
    "df.columns = df.columns.str.lower().str.replace(' ', '_')\n",
    "\n",
    "# --- Define Our Metrics ---\n",
    "# 1. Claim Frequency Metric: Create a binary 'has_claim' column\n",
    "df['has_claim'] = (df['totalclaims'] > 0).astype(int)\n",
    "\n",
    "# 2. Margin (Profit) Metric\n",
    "df['margin'] = df['totalpremium'] - df['totalclaims']\n",
    "\n",
    "# 3. Create a DataFrame for severity analysis (only policies with claims)\n",
    "claims_df = df[df['has_claim'] == 1].copy()\n",
    "\n",
    "print(\"Data prepared for hypothesis testing. Shape of claims_df:\", claims_df.shape)\n",
    "df[['province', 'gender', 'totalclaims', 'totalpremium', 'has_claim', 'margin']].head()"
   ]
  },
  {
   "cell_type": "code",
   "execution_count": 10,
   "metadata": {},
   "outputs": [
    {
     "name": "stdout",
     "output_type": "stream",
     "text": [
      "\n",
      "Kruskal-Wallis Test for Claim Severity by Province:\n",
      "P-value: 2.4146571363417815e-19\n",
      "Result: Reject the null hypothesis. There is a significant difference in claim severity across provinces.\n"
     ]
    }
   ],
   "source": [
    "# Prepare data for the test: a list of claim amounts for each province\n",
    "province_groups = claims_df.groupby('province')['totalclaims'].apply(list)\n",
    "\n",
    "# Perform the Kruskal-Wallis test\n",
    "h_statistic, p_value = stats.kruskal(*province_groups)\n",
    "\n",
    "print(f\"\\nKruskal-Wallis Test for Claim Severity by Province:\")\n",
    "print(f\"P-value: {p_value}\")\n",
    "\n",
    "if p_value < 0.05:\n",
    "    print(\"Result: Reject the null hypothesis. There is a significant difference in claim severity across provinces.\")\n",
    "else:\n",
    "    print(\"Result: Fail to reject the null hypothesis. There is no significant difference in claim severity across provinces.\")"
   ]
  },
  {
   "cell_type": "code",
   "execution_count": 11,
   "metadata": {},
   "outputs": [
    {
     "name": "stdout",
     "output_type": "stream",
     "text": [
      "\n",
      "Chi-squared Test for Claim Frequency by Zip Code P-value: 3.152172246339057e-30\n",
      "Kruskal-Wallis Test for Claim Severity by Zip Code P-value: 1.3787406038888729e-08\n",
      "Kruskal-Wallis Test for Margin by Zip Code P-value: 0.0\n"
     ]
    }
   ],
   "source": [
    "# Test 2.1: Claim Frequency by Zip Code (Chi-squared)\n",
    "zip_claim_freq = pd.crosstab(df['postalcode'], df['has_claim'])\n",
    "chi2, p_val_zip_freq, dof, expected = stats.chi2_contingency(zip_claim_freq)\n",
    "print(f\"\\nChi-squared Test for Claim Frequency by Zip Code P-value: {p_val_zip_freq}\")\n",
    "\n",
    "\n",
    "# Test 2.2: Claim Severity by Zip Code (Kruskal-Wallis)\n",
    "zip_severity_groups = claims_df.groupby('postalcode')['totalclaims'].apply(list)\n",
    "# Filter out groups with only one claim, as they don't have variance\n",
    "zip_severity_groups_filtered = [group for group in zip_severity_groups if len(group) > 1]\n",
    "h_stat, p_val_zip_sev = stats.kruskal(*zip_severity_groups_filtered)\n",
    "print(f\"Kruskal-Wallis Test for Claim Severity by Zip Code P-value: {p_val_zip_sev}\")\n",
    "\n",
    "\n",
    "# Test 3: Margin by Zip Code (Kruskal-Wallis)\n",
    "zip_margin_groups = df.groupby('postalcode')['margin'].apply(list)\n",
    "zip_margin_groups_filtered = [group for group in zip_margin_groups if len(group) > 1]\n",
    "h_stat, p_val_zip_margin = stats.kruskal(*zip_margin_groups_filtered)\n",
    "print(f\"Kruskal-Wallis Test for Margin by Zip Code P-value: {p_val_zip_margin}\")"
   ]
  },
  {
   "cell_type": "code",
   "execution_count": 12,
   "metadata": {},
   "outputs": [
    {
     "name": "stdout",
     "output_type": "stream",
     "text": [
      "\n",
      "Chi-squared Test for Claim Frequency by Gender:\n",
      "P-value: 0.9514644755420456\n",
      "Result: Fail to reject the null hypothesis.\n",
      "\n",
      "Mann-Whitney U Test for Claim Severity by Gender:\n",
      "P-value: 0.22351273500106295\n",
      "Result: Fail to reject the null hypothesis.\n"
     ]
    }
   ],
   "source": [
    "# Filter for only Male and Female for a clear comparison\n",
    "gender_df = df[df['gender'].isin(['Male', 'Female'])]\n",
    "gender_claims_df = claims_df[claims_df['gender'].isin(['Male', 'Female'])]\n",
    "\n",
    "# Test 4.1: Claim Frequency by Gender (Chi-squared)\n",
    "gender_claim_freq = pd.crosstab(gender_df['gender'], gender_df['has_claim'])\n",
    "chi2, p_value, dof, expected = stats.chi2_contingency(gender_claim_freq)\n",
    "print(f\"\\nChi-squared Test for Claim Frequency by Gender:\")\n",
    "print(f\"P-value: {p_value}\")\n",
    "\n",
    "if p_value < 0.05:\n",
    "    print(\"Result: Reject the null hypothesis. There is a significant difference in claim frequency between Men and Women.\")\n",
    "else:\n",
    "    print(\"Result: Fail to reject the null hypothesis.\")\n",
    "\n",
    "\n",
    "# Test 4.2: Claim Severity by Gender\n",
    "# Question: Is the average claim amount different between Men and Women?\n",
    "# Test: Mann-Whitney U test (non-parametric alternative to the t-test).\n",
    "male_claims = gender_claims_df[gender_claims_df['gender'] == 'Male']['totalclaims']\n",
    "female_claims = gender_claims_df[gender_claims_df['gender'] == 'Female']['totalclaims']\n",
    "\n",
    "u_statistic, p_value = stats.mannwhitneyu(male_claims, female_claims)\n",
    "print(f\"\\nMann-Whitney U Test for Claim Severity by Gender:\")\n",
    "print(f\"P-value: {p_value}\")\n",
    "\n",
    "if p_value < 0.05:\n",
    "    print(\"Result: Reject the null hypothesis. There is a significant difference in claim severity between Men and Women.\")\n",
    "else:\n",
    "    print(\"Result: Fail to reject the null hypothesis.\")"
   ]
  }
 ],
 "metadata": {
  "kernelspec": {
   "display_name": ".venv",
   "language": "python",
   "name": "python3"
  },
  "language_info": {
   "codemirror_mode": {
    "name": "ipython",
    "version": 3
   },
   "file_extension": ".py",
   "mimetype": "text/x-python",
   "name": "python",
   "nbconvert_exporter": "python",
   "pygments_lexer": "ipython3",
   "version": "3.11.0"
  }
 },
 "nbformat": 4,
 "nbformat_minor": 2
}
